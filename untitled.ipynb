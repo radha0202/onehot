{
 "cells": [
  {
   "cell_type": "code",
   "execution_count": 2,
   "id": "b2af337a",
   "metadata": {},
   "outputs": [
    {
     "name": "stdout",
     "output_type": "stream",
     "text": [
      "Original Data:\n",
      "   Id  SepalLengthCm  SepalWidthCm  PetalLengthCm  PetalWidthCm      Species\n",
      "0   1            5.1           3.5            1.4           0.2  Iris-setosa\n",
      "1   2            4.9           3.0            1.4           0.2  Iris-setosa\n",
      "2   3            4.7           3.2            1.3           0.2  Iris-setosa\n",
      "3   4            4.6           3.1            1.5           0.2  Iris-setosa\n",
      "4   5            5.0           3.6            1.4           0.2  Iris-setosa\n",
      "\n",
      "Data with Label Encoded Species:\n",
      "   Id  SepalLengthCm  SepalWidthCm  PetalLengthCm  PetalWidthCm      Species  \\\n",
      "0   1            5.1           3.5            1.4           0.2  Iris-setosa   \n",
      "1   2            4.9           3.0            1.4           0.2  Iris-setosa   \n",
      "2   3            4.7           3.2            1.3           0.2  Iris-setosa   \n",
      "3   4            4.6           3.1            1.5           0.2  Iris-setosa   \n",
      "4   5            5.0           3.6            1.4           0.2  Iris-setosa   \n",
      "\n",
      "   Species_Label  \n",
      "0              0  \n",
      "1              0  \n",
      "2              0  \n",
      "3              0  \n",
      "4              0  \n",
      "\n",
      "Data with One-Hot Encoded Species:\n",
      "   Id  SepalLengthCm  SepalWidthCm  PetalLengthCm  PetalWidthCm      Species  \\\n",
      "0   1            5.1           3.5            1.4           0.2  Iris-setosa   \n",
      "1   2            4.9           3.0            1.4           0.2  Iris-setosa   \n",
      "2   3            4.7           3.2            1.3           0.2  Iris-setosa   \n",
      "3   4            4.6           3.1            1.5           0.2  Iris-setosa   \n",
      "4   5            5.0           3.6            1.4           0.2  Iris-setosa   \n",
      "\n",
      "   Species_Label  Species_Iris-setosa  Species_Iris-versicolor  \\\n",
      "0              0                  1.0                      0.0   \n",
      "1              0                  1.0                      0.0   \n",
      "2              0                  1.0                      0.0   \n",
      "3              0                  1.0                      0.0   \n",
      "4              0                  1.0                      0.0   \n",
      "\n",
      "   Species_Iris-virginica  \n",
      "0                     0.0  \n",
      "1                     0.0  \n",
      "2                     0.0  \n",
      "3                     0.0  \n",
      "4                     0.0  \n"
     ]
    }
   ],
   "source": [
    "import pandas as pd\n",
    "from sklearn.preprocessing import LabelEncoder, OneHotEncoder\n",
    "iris_data = pd.read_csv('Iris1.csv')\n",
    "print(\"Original Data:\")\n",
    "print(iris_data.head())\n",
    "label_encoder = LabelEncoder()\n",
    "iris_data['Species_Label'] = label_encoder.fit_transform(iris_data['Species'])\n",
    "print(\"\\nData with Label Encoded Species:\")\n",
    "print(iris_data.head())\n",
    "onehot_encoder = OneHotEncoder(sparse=False)\n",
    "species_onehot = onehot_encoder.fit_transform(iris_data[['Species']])\n",
    "species_onehot_df = pd.DataFrame(species_onehot, columns=onehot_encoder.get_feature_names_out(['Species']))\n",
    "iris_data = pd.concat([iris_data, species_onehot_df], axis=1)\n",
    "print(\"\\nData with One-Hot Encoded Species:\")\n",
    "print(iris_data.head())"
   ]
  },
  {
   "cell_type": "code",
   "execution_count": null,
   "id": "84edb841",
   "metadata": {},
   "outputs": [],
   "source": []
  }
 ],
 "metadata": {
  "kernelspec": {
   "display_name": "Python 3 (ipykernel)",
   "language": "python",
   "name": "python3"
  },
  "language_info": {
   "codemirror_mode": {
    "name": "ipython",
    "version": 3
   },
   "file_extension": ".py",
   "mimetype": "text/x-python",
   "name": "python",
   "nbconvert_exporter": "python",
   "pygments_lexer": "ipython3",
   "version": "3.12.6"
  }
 },
 "nbformat": 4,
 "nbformat_minor": 5
}
